{
 "cells": [
  {
   "cell_type": "code",
   "execution_count": null,
   "id": "ab77e1f7-61e4-4003-9bca-d426e4064d7c",
   "metadata": {},
   "outputs": [],
   "source": []
  }
 ],
 "metadata": {
  "kernelspec": {
   "display_name": "",
   "name": ""
  },
  "language_info": {
   "name": ""
  }
 },
 "nbformat": 4,
 "nbformat_minor": 5
}
